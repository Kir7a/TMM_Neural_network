{
 "cells": [
  {
   "cell_type": "code",
   "execution_count": 2,
   "metadata": {},
   "outputs": [],
   "source": [
    "from math import sin, cos, tan\n",
    "from cmath import exp\n",
    "import numpy as np\n",
    "import matplotlib.pyplot as plt\n",
    "import pandas as pd\n",
    "import copy\n",
    "from IPython.display import clear_output\n",
    "%matplotlib inline"
   ]
  },
  {
   "cell_type": "code",
   "execution_count": 3,
   "metadata": {},
   "outputs": [
    {
     "name": "stdout",
     "output_type": "stream",
     "text": [
      "[[  1.     0.  ]\n",
      " [  1.45 132.  ]\n",
      " [  2.08 214.  ]\n",
      " [  1.45  53.  ]\n",
      " [  2.08 119.  ]\n",
      " [  1.45 142.  ]\n",
      " [  2.08 206.  ]\n",
      " [  1.45  63.  ]\n",
      " [  2.08 273.  ]\n",
      " [  1.45 177.  ]\n",
      " [  2.08  87.  ]\n",
      " [  1.52   0.  ]]\n"
     ]
    }
   ],
   "source": [
    "N_layers=10\n",
    "d_max=350\n",
    "n1=1.45\n",
    "n2=2.08\n",
    "training_structure=np.zeros((N_layers+2,2),dtype=float)\n",
    "d=np.random.randint(0,high=d_max,size=N_layers+1)\n",
    "\n",
    "for i in range(1,N_layers+1,2):\n",
    "    training_structure[i,0]=n1\n",
    "    training_structure[i,1]=d[i-1]\n",
    "    training_structure[i+1,0]=n2\n",
    "    training_structure[i+1,1]=d[i]\n",
    "training_structure[0,0]=1\n",
    "training_structure[N_layers+1,0]=1.52\n",
    "training_structure[0,1]=training_structure[N_layers+1,1]=0\n",
    "#training_structure=training_structure[::-1]\n",
    "print(training_structure)"
   ]
  },
  {
   "cell_type": "code",
   "execution_count": 6,
   "metadata": {},
   "outputs": [],
   "source": [
    "def numpy_N_for_all_angles(n_structure,wl=780, angle_start=20, angle_stop=30, points=20):\n",
    "    angles=np.linspace(angle_start,angle_stop,points)\n",
    "    N=np.zeros((len(angles),len(n_structure)),dtype=complex)\n",
    "    for ind,angle in enumerate(angles):\n",
    "        N[ind]=(n_structure ** 2 - n_structure[0] ** 2 * (sin(angle/180*np.pi)) ** 2 +0.j) ** 0.5\n",
    "    return N\n",
    "\n",
    "def numpy_N_fixed_angle(n_structure,wl_start=400, wl_stop=800, angle=0, points=200):\n",
    "    return (n_structure ** 2 - n_structure[0] ** 2 * (sin(angle/180*np.pi)) ** 2 +0.j) ** 0.5\n",
    "    #wavelengths=np.linspace(wl_start,wl_stop,points)\n",
    "    #N=np.zeros((len(wavelengths),len(n_structure)),dtype=np.complex)\n",
    "    #for ind,wl in enumerate(wavelengths):\n",
    "\n",
    "def numpy_create_tm_all_angles(N):\n",
    "    a=(N[:,1:]+N[:,:-1])/(2.*N[:,1:])\n",
    "    b=(N[:,1:]-N[:,:-1])/(2.*N[:,1:])\n",
    "    t=np.zeros((a.shape[0],a.shape[1],2,2),dtype=complex)\n",
    "    t[:,:,0,0]=t[:,:,1,1]=a\n",
    "    t[:,:,0,1]=t[:,:,1,0]=b\n",
    "    return t\n",
    " \n",
    "def numpy_create_tm_fixed_angle(N):\n",
    "    a=(N[1:]+N[:-1])/(2.*N[1:])\n",
    "    b=(N[1:]-N[:-1])/(2.*N[1:])\n",
    "    t=np.zeros((a.shape[0],2,2),dtype=complex)\n",
    "    t[:,0,0]=t[:,1,1]=a\n",
    "    t[:,0,1]=t[:,1,0]=b\n",
    "    return t\n",
    "\n",
    "def numpy_phase_all_angles(d,N,k0):\n",
    "    d=d[:,None,:]\n",
    "    phase=np.zeros((d.shape[0],N.shape[0],d.shape[2],2,2),dtype=complex)\n",
    "    phase[:,:,:,0,0]=np.exp(1.j * N[:,1:-1]*d * k0)\n",
    "    phase[:,:,:,1,1]=np.exp(-1.j * N[:,1:-1]*d * k0)  \n",
    "    return phase\n",
    "\n",
    "def numpy_phase_all_wavelengths(d,N,k0):\n",
    "    d=d[:,None,:]\n",
    "    phase=np.zeros((d.shape[0],k0.shape[0],d.shape[2],2,2),dtype=complex)\n",
    "    phase[:,:,:,0,0]=np.exp(1.j * N[None, None, 1:-1]*d * k0[None,:,None])\n",
    "    phase[:,:,:,1,1]=np.exp(-1.j * N[None, None, 1:-1]*d * k0[None,:,None])  \n",
    "    return phase\n",
    "\n",
    "def numpy_R_for_all_angles(phase,transfer): \n",
    "    \n",
    "    Total_transfer_matrix = np.zeros((phase.shape[0],phase.shape[1],2,2),dtype=complex)\n",
    "    Total_transfer_matrix[:,:,0,0]=Total_transfer_matrix[:,:,1,1]=1    \n",
    "    for i in range(phase.shape[2]):        \n",
    "        Total_transfer_matrix = np.matmul(transfer[None,:,i], Total_transfer_matrix)\n",
    "        Total_transfer_matrix = np.matmul(phase[:,:,i], Total_transfer_matrix)        \n",
    "    Total_transfer_matrix = np.matmul(transfer[None,:,-1], Total_transfer_matrix)\n",
    "    return -(Total_transfer_matrix[:,:,1, 0] / Total_transfer_matrix[:,:,1, 1])\n",
    "\n",
    "def numpy_R_for_all_wavelengths(phase,transfer): \n",
    "    \n",
    "    Total_transfer_matrix = np.zeros((phase.shape[0],phase.shape[1],2,2),dtype=complex)\n",
    "    Total_transfer_matrix[:,:,0,0]=Total_transfer_matrix[:,:,1,1]=1    \n",
    "    for i in range(phase.shape[2]):        \n",
    "        Total_transfer_matrix = np.matmul(transfer[None,None,i], Total_transfer_matrix)\n",
    "        Total_transfer_matrix = np.matmul(phase[:,:,i], Total_transfer_matrix)        \n",
    "    Total_transfer_matrix = np.matmul(transfer[None,None,-1], Total_transfer_matrix)\n",
    "    return -(Total_transfer_matrix[:,:,1, 0] / Total_transfer_matrix[:,:,1, 1])"
   ]
  },
  {
   "cell_type": "markdown",
   "metadata": {},
   "source": [
    "# Var wavelength"
   ]
  },
  {
   "cell_type": "code",
   "execution_count": 7,
   "metadata": {},
   "outputs": [
    {
     "name": "stdout",
     "output_type": "stream",
     "text": [
      "0\n",
      "20000\n",
      "40000\n",
      "60000\n",
      "80000\n"
     ]
    }
   ],
   "source": [
    "n_samples=100000\n",
    "wavelength_min=600\n",
    "wavelength_max=800\n",
    "points=200\n",
    "thicknes=np.random.randint(0,high=d_max,size=(n_samples,N_layers))\n",
    "\n",
    "Sample_n_per_cycle=20000\n",
    "sample_numbers=np.arange(0,stop=n_samples, step=Sample_n_per_cycle)\n",
    "\n",
    "N_all_wl=numpy_N_fixed_angle(training_structure[:,0])\n",
    "t_wl=numpy_create_tm_fixed_angle(N_all_wl)\n",
    "\n",
    "wavelengths=np.linspace(wavelength_min,wavelength_max,points)\n",
    "wavevector=2*np.pi/wavelengths\n",
    "training_type=\"real+imag\"\n",
    "#training_type=\"abs\"\n",
    "if training_type==\"real+imag\":\n",
    "    refl=np.zeros((n_samples,2*points),dtype=float)\n",
    "    for number in sample_numbers:\n",
    "        print(number)\n",
    "        phase=numpy_phase_all_wavelengths(thicknes[number:number+Sample_n_per_cycle],N_all_wl,wavevector)\n",
    "        total_matrix=numpy_R_for_all_wavelengths(phase,t_wl)\n",
    "        refl[number:number+Sample_n_per_cycle,:points]=np.real(total_matrix)\n",
    "        refl[number:number+Sample_n_per_cycle,points:]=np.imag(total_matrix)\n",
    "else:\n",
    "    refl=np.zeros((n_samples,points),dtype=float)\n",
    "    for number in sample_numbers:\n",
    "        print(number)\n",
    "        phase=numpy_phase_all_wavelengths(thicknes[number:number+Sample_n_per_cycle],N_all_wl,wavevector)\n",
    "        total_matrix=numpy_R_for_all_wavelengths(phase,t_wl)\n",
    "        refl[number:number+Sample_n_per_cycle]=np.abs(total_matrix)"
   ]
  },
  {
   "cell_type": "code",
   "execution_count": 8,
   "metadata": {
    "scrolled": true
   },
   "outputs": [],
   "source": [
    "header=(\"structure:\\n {} \\n wavelength range: {} - {} \\n number of points: {}\\n type of training:\"+training_type).format(\n",
    "    training_structure[:,0], wavelength_min, wavelength_max,points)\n",
    "file_for_R='train/train_R_4layers_large.csv'\n",
    "np.savetxt(file_for_R,refl,\n",
    "           header=header,delimiter=',')\n",
    "header2=(\"structure:\\n {} \\n maximal layer thickness: {} \\n corresponding R file: \"+file_for_R\n",
    "        ).format(training_structure[:,0], d_max)\n",
    "file_for_thicknes='train/train_thicknes_4layers_large.csv'\n",
    "np.savetxt(file_for_thicknes,thicknes,\n",
    "           header=header2,delimiter=',', fmt='%d')"
   ]
  },
  {
   "cell_type": "code",
   "execution_count": 9,
   "metadata": {},
   "outputs": [
    {
     "name": "stdout",
     "output_type": "stream",
     "text": [
      "0\n",
      "20000\n"
     ]
    }
   ],
   "source": [
    "n_samples=40000\n",
    "\n",
    "thicknes_test=np.random.randint(0,high=d_max,size=(n_samples,N_layers))\n",
    "\n",
    "Sample_n_per_cycle=20000\n",
    "sample_numbers=np.arange(0,stop=n_samples, step=Sample_n_per_cycle)\n",
    "if training_type==\"real+imag\":\n",
    "    refl_test=np.zeros((n_samples,2*points),dtype=float)\n",
    "    for number in sample_numbers:\n",
    "        print(number)\n",
    "        phase=numpy_phase_all_wavelengths(thicknes_test[number:number+Sample_n_per_cycle],N_all_wl,wavevector)\n",
    "        total_matrix=numpy_R_for_all_wavelengths(phase,t_wl)\n",
    "        refl_test[number:number+Sample_n_per_cycle,:points]=np.real(total_matrix)\n",
    "        refl_test[number:number+Sample_n_per_cycle,points:]=np.imag(total_matrix)\n",
    "else:\n",
    "    refl_test=np.zeros((n_samples,points),dtype=float)\n",
    "    for number in sample_numbers:\n",
    "        print(number)\n",
    "        phase=numpy_phase_all_wavelengths(thicknes_test[number:number+Sample_n_per_cycle],N_all_wl,wavevector)\n",
    "        total_matrix=numpy_R_for_all_wavelengths(phase,t_wl)\n",
    "        refl_test[number:number+Sample_n_per_cycle]=np.abs(total_matrix)"
   ]
  },
  {
   "cell_type": "code",
   "execution_count": 10,
   "metadata": {},
   "outputs": [],
   "source": [
    "header=(\"structure:\\n {} \\n wavelength range: {} - {} \\n number of points: {}\\n type of training:\"+training_type).format(\n",
    "    training_structure[:,0], wavelength_min, wavelength_max,points)\n",
    "file_for_R='test/test_R_4layers_large.csv'\n",
    "np.savetxt(file_for_R,refl_test,\n",
    "           header=header,delimiter=',')\n",
    "header2=(\"structure:\\n {} \\n maximal layer thickness: {} \\n corresponding R file: \"+file_for_R\n",
    "        ).format(training_structure[:,0], d_max)\n",
    "file_for_thicknes='test/test_thicknes_4layers_large.csv'\n",
    "np.savetxt(file_for_thicknes,thicknes_test,\n",
    "           header=header2,delimiter=',', fmt='%d')"
   ]
  },
  {
   "cell_type": "markdown",
   "metadata": {},
   "source": [
    "# Var angle"
   ]
  },
  {
   "cell_type": "code",
   "execution_count": 7,
   "metadata": {},
   "outputs": [
    {
     "name": "stdout",
     "output_type": "stream",
     "text": [
      "0\n",
      "20000\n",
      "40000\n",
      "60000\n",
      "80000\n",
      "100000\n",
      "120000\n",
      "140000\n",
      "160000\n",
      "180000\n"
     ]
    }
   ],
   "source": [
    "n_samples=200000\n",
    "angle_min=0\n",
    "angle_max=40\n",
    "wl=800\n",
    "points=100\n",
    "thicknes=np.random.randint(0,high=d_max,size=(n_samples,N_layers))\n",
    "\n",
    "Sample_n_per_cycle=20000\n",
    "sample_numbers=np.arange(0,stop=n_samples, step=Sample_n_per_cycle)\n",
    "\n",
    "N_all_angles=numpy_N_for_all_angles(training_structure[:,0],wl=wl, angle_start=angle_min, \n",
    "                                    angle_stop=angle_max, points=points)\n",
    "t_angles=numpy_create_tm_all_angles(N_all_angles)\n",
    "\n",
    "angles=np.linspace(angle_min,angle_max,points)\n",
    "wavevector=2*np.pi/wl\n",
    "training_type=\"real+imag\"\n",
    "#training_type=\"abs\"\n",
    "if training_type==\"real+imag\":\n",
    "    refl=np.zeros((n_samples,2*points),dtype=float)\n",
    "    for number in sample_numbers:\n",
    "        print(number)\n",
    "        phase=numpy_phase_all_angles(thicknes[number:number+Sample_n_per_cycle],N_all_angles,wavevector)\n",
    "        total_matrix=numpy_R_for_all_angles(phase,t_angles)\n",
    "        refl[number:number+Sample_n_per_cycle,:points]=np.real(total_matrix)\n",
    "        refl[number:number+Sample_n_per_cycle,points:]=np.imag(total_matrix)\n",
    "else:\n",
    "    refl=np.zeros((n_samples,points),dtype=float)\n",
    "    for number in sample_numbers:\n",
    "        print(number)\n",
    "        phase=numpy_phase_all_angles(thicknes[number:number+Sample_n_per_cycle],N_all_angles,wavevector)\n",
    "        total_matrix=numpy_R_for_all_angles(phase,t_angles)\n",
    "        refl[number:number+Sample_n_per_cycle]=np.abs(total_matrix)"
   ]
  },
  {
   "cell_type": "code",
   "execution_count": 8,
   "metadata": {},
   "outputs": [],
   "source": [
    "header=(f\"structure:\\n {training_structure[:,0]} \\n angles range: {angle_min} - {angle_max} \\n \\\n",
    "    wavelength:{wl} nm\\n number of points: {points}\\n type of training:\"+training_type)\n",
    "file_for_R='train/train_R_10layers_angle.csv'\n",
    "np.savetxt(file_for_R,refl,\n",
    "           header=header,delimiter=',')\n",
    "header2=(\"structure:\\n {} \\n maximal layer thickness: {} \\n corresponding R file: \"+file_for_R\n",
    "        ).format(training_structure[:,0], d_max)\n",
    "file_for_thicknes='train/train_thicknes_10layers_angle.csv'\n",
    "np.savetxt(file_for_thicknes,thicknes,\n",
    "           header=header2,delimiter=',', fmt='%d')"
   ]
  },
  {
   "cell_type": "code",
   "execution_count": 9,
   "metadata": {},
   "outputs": [
    {
     "name": "stdout",
     "output_type": "stream",
     "text": [
      "0\n",
      "20000\n"
     ]
    }
   ],
   "source": [
    "n_samples=40000\n",
    "\n",
    "thicknes_test=np.random.randint(0,high=d_max,size=(n_samples,N_layers))\n",
    "\n",
    "Sample_n_per_cycle=20000\n",
    "sample_numbers=np.arange(0,stop=n_samples, step=Sample_n_per_cycle)\n",
    "if training_type==\"real+imag\":\n",
    "    refl=np.zeros((n_samples,2*points),dtype=float)\n",
    "    for number in sample_numbers:\n",
    "        print(number)\n",
    "        phase=numpy_phase_all_angles(thicknes[number:number+Sample_n_per_cycle],N_all_angles,wavevector)\n",
    "        total_matrix=numpy_R_for_all_angles(phase,t_angles)\n",
    "        refl[number:number+Sample_n_per_cycle,:points]=np.real(total_matrix)\n",
    "        refl[number:number+Sample_n_per_cycle,points:]=np.imag(total_matrix)\n",
    "else:\n",
    "    refl=np.zeros((n_samples,points),dtype=float)\n",
    "    for number in sample_numbers:\n",
    "        print(number)\n",
    "        phase=numpy_phase_all_angles(thicknes[number:number+Sample_n_per_cycle],N_all_angles,wavevector)\n",
    "        total_matrix=numpy_R_for_all_angles(phase,t_angles)\n",
    "        refl[number:number+Sample_n_per_cycle]=np.abs(total_matrix)"
   ]
  },
  {
   "cell_type": "code",
   "execution_count": 10,
   "metadata": {},
   "outputs": [],
   "source": [
    "header=(f\"structure:\\n {training_structure[:,0]} \\n angles range: {angle_min} - {angle_max} \\n \\\n",
    "    wavelength:{wl} nm\\n number of points: {points}\\n type of training:\"+training_type)\n",
    "file_for_R='test/train_R_10layers_angle.csv'\n",
    "np.savetxt(file_for_R,refl,\n",
    "           header=header,delimiter=',')\n",
    "header2=(\"structure:\\n {} \\n maximal layer thickness: {} \\n corresponding R file: \"+file_for_R\n",
    "        ).format(training_structure[:,0], d_max)\n",
    "file_for_thicknes='test/train_thicknes_10layers_angle.csv'\n",
    "np.savetxt(file_for_thicknes,thicknes,\n",
    "           header=header2,delimiter=',', fmt='%d')"
   ]
  },
  {
   "cell_type": "code",
   "execution_count": null,
   "metadata": {},
   "outputs": [],
   "source": []
  },
  {
   "cell_type": "code",
   "execution_count": null,
   "metadata": {},
   "outputs": [],
   "source": []
  }
 ],
 "metadata": {
  "anaconda-cloud": {},
  "kernelspec": {
   "display_name": "Python 3",
   "language": "python",
   "name": "python3"
  },
  "language_info": {
   "codemirror_mode": {
    "name": "ipython",
    "version": 3
   },
   "file_extension": ".py",
   "mimetype": "text/x-python",
   "name": "python",
   "nbconvert_exporter": "python",
   "pygments_lexer": "ipython3",
   "version": "3.7.6"
  }
 },
 "nbformat": 4,
 "nbformat_minor": 2
}
